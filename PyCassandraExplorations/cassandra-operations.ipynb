{
 "cells": [
  {
   "cell_type": "code",
   "execution_count": 1,
   "metadata": {},
   "outputs": [
    {
     "name": "stdout",
     "output_type": "stream",
     "text": [
      "Collecting cassandra-driver\n",
      "  Downloading cassandra_driver-3.28.0-cp39-cp39-manylinux_2_17_x86_64.manylinux2014_x86_64.whl (19.9 MB)\n",
      "\u001b[2K     \u001b[90m━━━━━━━━━━━━━━━━━━━━━━━━━━━━━━━━━━━━━━━━\u001b[0m \u001b[32m19.9/19.9 MB\u001b[0m \u001b[31m1.8 MB/s\u001b[0m eta \u001b[36m0:00:00\u001b[0m00:01\u001b[0m00:01\u001b[0mm\n",
      "\u001b[?25hRequirement already satisfied: six>=1.9 in /kychub/repository/venv/lib/python3.9/site-packages (from cassandra-driver) (1.16.0)\n",
      "Collecting geomet<0.3,>=0.1\n",
      "  Downloading geomet-0.2.1.post1-py3-none-any.whl (18 kB)\n",
      "Requirement already satisfied: click in /kychub/repository/venv/lib/python3.9/site-packages (from geomet<0.3,>=0.1->cassandra-driver) (7.1.2)\n",
      "Installing collected packages: geomet, cassandra-driver\n",
      "Successfully installed cassandra-driver-3.28.0 geomet-0.2.1.post1\n",
      "\n",
      "\u001b[1m[\u001b[0m\u001b[34;49mnotice\u001b[0m\u001b[1;39;49m]\u001b[0m\u001b[39;49m A new release of pip is available: \u001b[0m\u001b[31;49m23.0.1\u001b[0m\u001b[39;49m -> \u001b[0m\u001b[32;49m23.2.1\u001b[0m\n",
      "\u001b[1m[\u001b[0m\u001b[34;49mnotice\u001b[0m\u001b[1;39;49m]\u001b[0m\u001b[39;49m To update, run: \u001b[0m\u001b[32;49mpip install --upgrade pip\u001b[0m\n",
      "Note: you may need to restart the kernel to use updated packages.\n"
     ]
    }
   ],
   "source": [
    "# Installing the driver library\n",
    "pip install cassandra-driver"
   ]
  },
  {
   "cell_type": "code",
   "execution_count": 1,
   "metadata": {},
   "outputs": [],
   "source": [
    "from cassandra.cluster import Cluster\n",
    "from cassandra.auth import PlainTextAuthenticator"
   ]
  },
  {
   "cell_type": "code",
   "execution_count": 4,
   "metadata": {},
   "outputs": [],
   "source": [
    "# Connecting to server and setting the session\n",
    "cluster = Cluster([\"localhost\"])\n",
    "session = cluster.connect()"
   ]
  },
  {
   "cell_type": "code",
   "execution_count": 5,
   "metadata": {},
   "outputs": [],
   "source": [
    "# Process to Connect to the server on cloud\n",
    "# from cassandra.cluster import Cluster\n",
    "# from cassandra.auth import PlainTextAuthProvider\n",
    "\n",
    "# cloud_config = {\n",
    "#     'secure_connect_bundle': '/path/to/secure-connect-dbname.zip'\n",
    "# }\n",
    "# auth_provider = PlainTextAuthProvider(username='user', password='pass')\n",
    "# cluster = Cluster(cloud=cloud_config, auth_provider=auth_provider)\n",
    "# session = cluster.connect()"
   ]
  },
  {
   "cell_type": "code",
   "execution_count": 6,
   "metadata": {},
   "outputs": [
    {
     "data": {
      "text/plain": [
       "<cassandra.cluster.ResultSet at 0x7f74fca92f10>"
      ]
     },
     "execution_count": 6,
     "metadata": {},
     "output_type": "execute_result"
    }
   ],
   "source": [
    "# Creating keyspace\n",
    "query = \"create keyspace IF NOT EXISTS keysp with replication={'class':'SimpleStrategy','replication_factor':3};\"\n",
    "session.execute(query)"
   ]
  },
  {
   "cell_type": "code",
   "execution_count": 10,
   "metadata": {},
   "outputs": [
    {
     "name": "stdout",
     "output_type": "stream",
     "text": [
      "KeySpace Name:  keysp\n",
      "KeySpace Name:  system\n",
      "KeySpace Name:  system_auth\n",
      "KeySpace Name:  system_distributed\n",
      "KeySpace Name:  system_schema\n",
      "KeySpace Name:  system_traces\n",
      "KeySpace Name:  system_views\n",
      "KeySpace Name:  system_virtual_schema\n"
     ]
    }
   ],
   "source": [
    "# getting list of keyspaces\n",
    "query = \"describe keyspaces;\"\n",
    "result = session.execute(query)\n",
    "for item in result.all():\n",
    "    print(\"KeySpace Name: \",item[0])"
   ]
  },
  {
   "cell_type": "code",
   "execution_count": 11,
   "metadata": {},
   "outputs": [
    {
     "data": {
      "text/plain": [
       "<cassandra.cluster.ResultSet at 0x7f74fda3f850>"
      ]
     },
     "execution_count": 11,
     "metadata": {},
     "output_type": "execute_result"
    }
   ],
   "source": [
    "# Using the keyspace for creating tables inside\n",
    "query = \"use keysp;\"\n",
    "session.execute(query)"
   ]
  },
  {
   "cell_type": "code",
   "execution_count": 12,
   "metadata": {},
   "outputs": [
    {
     "data": {
      "text/plain": [
       "<cassandra.cluster.ResultSet at 0x7f74fcaea2e0>"
      ]
     },
     "execution_count": 12,
     "metadata": {},
     "output_type": "execute_result"
    }
   ],
   "source": [
    "# Creating the table inside the keyspace\n",
    "query = \"create table IF NOT EXISTS emp(id int, name varchar, salary int, dept_id int, primary key(id,dept_id)) with clustering order by (dept_id desc);\"\n",
    "session.execute(query)"
   ]
  },
  {
   "cell_type": "code",
   "execution_count": 33,
   "metadata": {},
   "outputs": [
    {
     "data": {
      "text/plain": [
       "[Row(column_name='dept_id', type='int'),\n",
       " Row(column_name='id', type='int'),\n",
       " Row(column_name='name', type='text'),\n",
       " Row(column_name='salary', type='int')]"
      ]
     },
     "execution_count": 33,
     "metadata": {},
     "output_type": "execute_result"
    }
   ],
   "source": [
    "# printing the schema of a table\n",
    "# we have to fetch the schema of table from columns table inside system_schema keypsace\n",
    "query = 'select column_name,type from system_schema.columns where keyspace_name=%s and table_name=%s;'\n",
    "session.execute(query,('keysp','emp')).all()"
   ]
  },
  {
   "cell_type": "code",
   "execution_count": 14,
   "metadata": {},
   "outputs": [
    {
     "name": "stdout",
     "output_type": "stream",
     "text": [
      "tables:  [Row(keyspace_name='keysp', type='table', name='emp')]\n"
     ]
    }
   ],
   "source": [
    "# getting list of tables in the keyspace\n",
    "query = \"desc tables;\"\n",
    "tables = session.execute(query).all()\n",
    "print(\"tables: \",tables)"
   ]
  },
  {
   "cell_type": "code",
   "execution_count": 22,
   "metadata": {},
   "outputs": [
    {
     "data": {
      "text/plain": [
       "<cassandra.cluster.ResultSet at 0x7f74fcad3cd0>"
      ]
     },
     "execution_count": 22,
     "metadata": {},
     "output_type": "execute_result"
    }
   ],
   "source": [
    "# inserting record in table\n",
    "# In cassandra we have to insert everyting using %s for all type of datatypes\n",
    "query = 'insert into emp(id,name,salary,dept_id) values(%s,%s,%s,%s);'\n",
    "session.execute(query,(1,\"amit\",50000,1))"
   ]
  },
  {
   "cell_type": "code",
   "execution_count": 23,
   "metadata": {},
   "outputs": [],
   "source": [
    "# adding some more records in table\n",
    "emp_ids = [2,3,4,5,6]\n",
    "names = [\"ankit\",\"ravi\",\"aman\",\"ram\",\"sam\"]\n",
    "salary = [56000,23342,54640,23450,45670]\n",
    "dept_ids = [1,2,1,3,2]\n",
    "\n",
    "query = \"insert into emp(id,name,salary,dept_id) values(%s,%s,%s,%s);\"\n",
    "for i in range(len(names)):\n",
    "    values= ( emp_ids[i], names[i], salary[i], dept_ids[i] )\n",
    "    session.execute(query,values)"
   ]
  },
  {
   "cell_type": "code",
   "execution_count": 28,
   "metadata": {},
   "outputs": [
    {
     "data": {
      "text/plain": [
       "[Row(id=5, dept_id=3, name='ram', salary=23450),\n",
       " Row(id=1, dept_id=1, name='amit', salary=50000),\n",
       " Row(id=2, dept_id=1, name='ankit', salary=56000),\n",
       " Row(id=4, dept_id=1, name='aman', salary=54640),\n",
       " Row(id=6, dept_id=2, name='sam', salary=45670),\n",
       " Row(id=3, dept_id=2, name='ravi', salary=23342)]"
      ]
     },
     "execution_count": 28,
     "metadata": {},
     "output_type": "execute_result"
    }
   ],
   "source": [
    "# fetching all the records\n",
    "query = \"select * from emp;\"\n",
    "output = session.execute(query).all()\n",
    "output"
   ]
  },
  {
   "cell_type": "code",
   "execution_count": 34,
   "metadata": {},
   "outputs": [
    {
     "data": {
      "text/plain": [
       "[{'id': 5, 'dept_id': 3, 'name': 'ram', 'salary': 23450},\n",
       " {'id': 1, 'dept_id': 1, 'name': 'amit', 'salary': 50000},\n",
       " {'id': 2, 'dept_id': 1, 'name': 'ankit', 'salary': 56000},\n",
       " {'id': 4, 'dept_id': 1, 'name': 'aman', 'salary': 54640},\n",
       " {'id': 6, 'dept_id': 2, 'name': 'sam', 'salary': 45670},\n",
       " {'id': 3, 'dept_id': 2, 'name': 'ravi', 'salary': 23342}]"
      ]
     },
     "execution_count": 34,
     "metadata": {},
     "output_type": "execute_result"
    }
   ],
   "source": [
    "# fetching rows as dictionary\n",
    "from cassandra.query import dict_factory\n",
    "session.row_factory = dict_factory\n",
    "query = \"select * from emp;\"\n",
    "output = session.execute(query).all()\n",
    "output"
   ]
  },
  {
   "cell_type": "markdown",
   "metadata": {},
   "source": [
    "#### Prepare statement: \n",
    "Prepared statements are queries that are parsed by Cassandra and then saved for later use. When the driver uses a prepared statement, \n",
    "it only needs to send the values of parameters to bind. This lowers network traffic and CPU utilization within Cassandra because Cassandra \n",
    "does not have to re-parse the query each time."
   ]
  },
  {
   "cell_type": "code",
   "execution_count": 39,
   "metadata": {},
   "outputs": [
    {
     "data": {
      "text/plain": [
       "[{'id': 1, 'dept_id': 1, 'name': 'amit', 'salary': 50000},\n",
       " {'id': 2, 'dept_id': 1, 'name': 'ankit', 'salary': 56000}]"
      ]
     },
     "execution_count": 39,
     "metadata": {},
     "output_type": "execute_result"
    }
   ],
   "source": [
    "# Using where condition for filtering\n",
    "# Case 1: when where condition does not contains primary key\n",
    "\n",
    "# using prepare statement which should be used for better performance\n",
    "query = session.prepare('select * from emp where id<3 ALLOW FILTERING;')\n",
    "output = session.execute(query).all()\n",
    "output"
   ]
  },
  {
   "cell_type": "code",
   "execution_count": 56,
   "metadata": {},
   "outputs": [
    {
     "data": {
      "text/plain": [
       "[{'id': 1, 'dept_id': 1, 'name': 'amit', 'salary': 50000},\n",
       " {'id': 2, 'dept_id': 1, 'name': 'ankit', 'salary': 56000},\n",
       " {'id': 3, 'dept_id': 2, 'name': 'ravi', 'salary': 23342}]"
      ]
     },
     "execution_count": 56,
     "metadata": {},
     "output_type": "execute_result"
    }
   ],
   "source": [
    "# Case 2: when where condition contains partition key but value must be = not > or < or >= or <=\n",
    "query = 'select * from emp where id in (%s,%s,%s);'\n",
    "output = session.execute(query,[1,2,3]).all()\n",
    "output"
   ]
  },
  {
   "cell_type": "code",
   "execution_count": 58,
   "metadata": {},
   "outputs": [
    {
     "data": {
      "text/plain": [
       "[{'id': 3, 'dept_id': 2, 'name': 'ravi', 'salary': 23342}]"
      ]
     },
     "execution_count": 58,
     "metadata": {},
     "output_type": "execute_result"
    }
   ],
   "source": [
    "# Case 3: Using partition key and clustering key\n",
    "query = 'select * from emp where id in (%s,%s,%s) and dept_id=2;'\n",
    "output = session.execute(query,[1,2,3]).all()\n",
    "output"
   ]
  },
  {
   "cell_type": "code",
   "execution_count": 66,
   "metadata": {},
   "outputs": [
    {
     "data": {
      "text/plain": [
       "[{'totalsalarycost': 253102}]"
      ]
     },
     "execution_count": 66,
     "metadata": {},
     "output_type": "execute_result"
    }
   ],
   "source": [
    "# Aggregation operations\n",
    "session.execute('select sum(salary) as totalSalaryCost from emp;').all()"
   ]
  },
  {
   "cell_type": "code",
   "execution_count": 59,
   "metadata": {},
   "outputs": [
    {
     "data": {
      "text/plain": [
       "<cassandra.cluster.ResultSet at 0x7f74fe0e7610>"
      ]
     },
     "execution_count": 59,
     "metadata": {},
     "output_type": "execute_result"
    }
   ],
   "source": [
    "# Creating table with column types list/tuple and dict/map, set, bool, date, string/varchar, text\n",
    "query = session.prepare('create table mix(id int primary key, name varchar, about text, skills list<varchar>, details map<varchar,varchar>, setval set<text>);')\n",
    "session.execute(query)"
   ]
  },
  {
   "cell_type": "code",
   "execution_count": 62,
   "metadata": {},
   "outputs": [
    {
     "data": {
      "text/plain": [
       "[{'column_name': 'about', 'type': 'text'},\n",
       " {'column_name': 'details', 'type': 'map<text, text>'},\n",
       " {'column_name': 'id', 'type': 'int'},\n",
       " {'column_name': 'name', 'type': 'text'},\n",
       " {'column_name': 'setval', 'type': 'set<text>'},\n",
       " {'column_name': 'skills', 'type': 'list<text>'}]"
      ]
     },
     "execution_count": 62,
     "metadata": {},
     "output_type": "execute_result"
    }
   ],
   "source": [
    "# printint the schema of table\n",
    "session.execute('select column_name,type from system_schema.columns where keyspace_name=%s and table_name=%s;',('keysp','mix')).all()"
   ]
  },
  {
   "cell_type": "code",
   "execution_count": 63,
   "metadata": {},
   "outputs": [
    {
     "data": {
      "text/plain": [
       "<cassandra.cluster.ResultSet at 0x7f74fca566d0>"
      ]
     },
     "execution_count": 63,
     "metadata": {},
     "output_type": "execute_result"
    }
   ],
   "source": [
    "# Inserting the data\n",
    "query = session.prepare('insert into mix(id,name,about,skills,details,setval) values(?,?,?,?,?,?);')\n",
    "values = [\n",
    "          1,'Amit','I am a DE with experience of 1.5 years in fastpaced startup', \n",
    "          ['Hadoop','Hive','NoSQL','Spark'], {'age':'25','gender':'male'}, {'a','b','c','a','d','c'}\n",
    "         ]\n",
    "          \n",
    "\n",
    "session.execute(query,values)\n",
    "        "
   ]
  },
  {
   "cell_type": "code",
   "execution_count": 64,
   "metadata": {},
   "outputs": [
    {
     "data": {
      "text/plain": [
       "[{'id': 1,\n",
       "  'about': 'I am a DE with experience of 1.5 years in fastpaced startup',\n",
       "  'details': OrderedMapSerializedKey([('age', '25'), ('gender', 'male')]),\n",
       "  'name': 'Amit',\n",
       "  'setval': SortedSet(['a', 'b', 'c', 'd']),\n",
       "  'skills': ['Hadoop', 'Hive', 'NoSQL', 'Spark']}]"
      ]
     },
     "execution_count": 64,
     "metadata": {},
     "output_type": "execute_result"
    }
   ],
   "source": [
    "# fetching the records\n",
    "query = 'select * from mix;'\n",
    "session.execute(query).all()"
   ]
  },
  {
   "cell_type": "code",
   "execution_count": 68,
   "metadata": {},
   "outputs": [
    {
     "data": {
      "text/plain": [
       "<cassandra.cluster.ResultSet at 0x7f74fe0e7760>"
      ]
     },
     "execution_count": 68,
     "metadata": {},
     "output_type": "execute_result"
    }
   ],
   "source": [
    "# Dropping table\n",
    "session.execute('drop table emp;')"
   ]
  },
  {
   "cell_type": "code",
   "execution_count": 71,
   "metadata": {},
   "outputs": [
    {
     "data": {
      "text/plain": [
       "<cassandra.cluster.ResultSet at 0x7f74fca86190>"
      ]
     },
     "execution_count": 71,
     "metadata": {},
     "output_type": "execute_result"
    }
   ],
   "source": [
    "# Dropping the keyspace\n",
    "session.execute('drop keyspace keysp;')"
   ]
  },
  {
   "cell_type": "code",
   "execution_count": 75,
   "metadata": {},
   "outputs": [
    {
     "name": "stdout",
     "output_type": "stream",
     "text": [
      "KeySpace:  system\n",
      "KeySpace:  system_auth\n",
      "KeySpace:  system_distributed\n",
      "KeySpace:  system_schema\n",
      "KeySpace:  system_traces\n",
      "KeySpace:  system_views\n",
      "KeySpace:  system_virtual_schema\n"
     ]
    }
   ],
   "source": [
    "output = session.execute('desc keyspaces;').all()\n",
    "for item in output:\n",
    "    print(\"KeySpace: \",item['keyspace_name'])\n"
   ]
  },
  {
   "cell_type": "code",
   "execution_count": 76,
   "metadata": {},
   "outputs": [],
   "source": [
    "# Closing the session\n",
    "session.shutdown()"
   ]
  },
  {
   "cell_type": "code",
   "execution_count": null,
   "metadata": {},
   "outputs": [],
   "source": []
  }
 ],
 "metadata": {
  "kernelspec": {
   "display_name": "venv",
   "language": "python",
   "name": "python3"
  },
  "language_info": {
   "codemirror_mode": {
    "name": "ipython",
    "version": 3
   },
   "file_extension": ".py",
   "mimetype": "text/x-python",
   "name": "python",
   "nbconvert_exporter": "python",
   "pygments_lexer": "ipython3",
   "version": "3.9.17"
  },
  "orig_nbformat": 4
 },
 "nbformat": 4,
 "nbformat_minor": 2
}
